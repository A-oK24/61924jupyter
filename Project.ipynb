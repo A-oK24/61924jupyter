{
  "metadata": {
    "kernelspec": {
      "name": "python",
      "display_name": "Python (Pyodide)",
      "language": "python"
    },
    "language_info": {
      "codemirror_mode": {
        "name": "python",
        "version": 3
      },
      "file_extension": ".py",
      "mimetype": "text/x-python",
      "name": "python",
      "nbconvert_exporter": "python",
      "pygments_lexer": "ipython3",
      "version": "3.8"
    }
  },
  "nbformat_minor": 4,
  "nbformat": 4,
  "cells": [
    {
      "cell_type": "markdown",
      "source": "# Data Science Notebook, 6/19/2024",
      "metadata": {}
    },
    {
      "cell_type": "markdown",
      "source": "# Introduction\nWelcome to my Data Science notebook, this is the markdown cell that is required for excersise 3 of the project where I provide my introduction. The purpose of this notebook is to showcase my understanding of jupyterlite notebook ",
      "metadata": {}
    },
    {
      "cell_type": "markdown",
      "source": "# Data Science Languages List\n- Python\n- R\n- SQL\n- VBA",
      "metadata": {}
    },
    {
      "cell_type": "markdown",
      "source": "# Data Science Libraries List\n- Pandas\n- NumPy\n- Matplotlib\n- Scikit-learn\n- TensorFlow\n- NumPy",
      "metadata": {}
    },
    {
      "cell_type": "markdown",
      "source": "## Data Science Tools\n\n| Tool          | Purpose               |\n|---------------|-----------------------|\n| Jupyter       | Interactive notebooks |\n| TensorFlow    | Machine learning      |\n| Tableau       | Data visualization    |\n| Apache Airflow| Workflow automation   |\n",
      "metadata": {}
    },
    {
      "cell_type": "markdown",
      "source": "# Arithmetic Examples\n\n- Addition: `2 + 2`\n- Subtraction: `2 - 2`\n- Multiplication: `2 * 2`\n- Division: `2 / 2`\n",
      "metadata": {}
    },
    {
      "cell_type": "code",
      "source": "Math_answer = (2 * 2) + 2\nprint(Math_answer)\n",
      "metadata": {
        "trusted": true
      },
      "outputs": [],
      "execution_count": null
    },
    {
      "cell_type": "code",
      "source": "def convert_to_hours(minutes):\n    hours = minutes / 60\n    return f\"{minutes} minutes is {hours} hours\"\n\ntime_in_hours = convert_to_hours(120)\nprint(time_in_hours)",
      "metadata": {
        "trusted": true
      },
      "outputs": [],
      "execution_count": null
    },
    {
      "cell_type": "markdown",
      "source": "# Objectives\n- Understand the basic tools used in data science.\n- Use Python to solve arithmetic problems.\n- Use Jupyter Notebooks and show how they can be used for data science projects.",
      "metadata": {}
    },
    {
      "cell_type": "markdown",
      "source": "Abdallah Khan",
      "metadata": {}
    }
  ]
}